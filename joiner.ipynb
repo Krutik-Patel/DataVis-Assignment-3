{
 "cells": [
  {
   "cell_type": "code",
   "execution_count": 38,
   "metadata": {},
   "outputs": [],
   "source": [
    "import pandas as pd\n",
    "import numpy as np"
   ]
  },
  {
   "cell_type": "code",
   "execution_count": 39,
   "metadata": {},
   "outputs": [
    {
     "name": "stderr",
     "output_type": "stream",
     "text": [
      "C:\\Users\\patel\\AppData\\Roaming\\Python\\Python311\\site-packages\\openpyxl\\worksheet\\_reader.py:329: UserWarning: Data Validation extension is not supported and will be removed\n",
      "  warn(msg)\n"
     ]
    }
   ],
   "source": [
    "df18 = pd.read_excel('2018-shcc-attacks-data.xlsx')\n",
    "df19 = pd.read_excel('2019-shcc-incident-data.xlsx')\n",
    "df20 = pd.read_excel('2020-shcc-incident-data.xlsx')\n",
    "df21 = pd.read_excel('2021-shcc-incident-data.xlsx')\n",
    "df22 = pd.read_excel('2022-shcc-incident-data.xlsx')"
   ]
  },
  {
   "cell_type": "code",
   "execution_count": 40,
   "metadata": {},
   "outputs": [
    {
     "data": {
      "text/plain": [
       "Index(['SHCC Event Code', 'Country', 'Attack date', 'SHCC Attack Type',\n",
       "       'Total health worker killed', 'Total health worker injured',\n",
       "       'Total health worker kidnapped', 'Total health worker sexual violence',\n",
       "       'Total health worker arrested ', 'Number of facilities affected',\n",
       "       'Total number of attacks on facilities which reported destruction',\n",
       "       'Total number of attacks on facilities which reported damage',\n",
       "       'Armed entry into medical facilities',\n",
       "       'Looting, theft, robbery, burglary of health supplies',\n",
       "       'Occupation of medical facilities for military use',\n",
       "       'Health transportation destroyed', 'Health transportation damaged',\n",
       "       'Health transportation stolen/highjacked', 'Perpetrator '],\n",
       "      dtype='object')"
      ]
     },
     "execution_count": 40,
     "metadata": {},
     "output_type": "execute_result"
    }
   ],
   "source": [
    "df18.columns"
   ]
  },
  {
   "cell_type": "code",
   "execution_count": 41,
   "metadata": {},
   "outputs": [
    {
     "data": {
      "text/plain": [
       "{'Attack date',\n",
       " 'Country',\n",
       " 'Health transportation damaged',\n",
       " 'Health transportation destroyed',\n",
       " 'Health transportation stolen/highjacked',\n",
       " 'Perpetrator ',\n",
       " 'Total health worker arrested ',\n",
       " 'Total health worker injured',\n",
       " 'Total health worker kidnapped',\n",
       " 'Total health worker killed',\n",
       " 'Total number of attacks on facilities which reported damage',\n",
       " 'Total number of attacks on facilities which reported destruction'}"
      ]
     },
     "execution_count": 41,
     "metadata": {},
     "output_type": "execute_result"
    }
   ],
   "source": [
    "st1 = set(df18.columns) & set(df19.columns) & set(df20.columns) & set(df21.columns) & set(df22.columns)\n",
    "\n",
    "st1"
   ]
  },
  {
   "cell_type": "code",
   "execution_count": 42,
   "metadata": {},
   "outputs": [],
   "source": [
    "col_list = list(st1)\n",
    "\n",
    "up_df18 = df18[col_list].drop([0, 974, 975]) # 974, 975 have total values of each columnm, hence removed\n",
    "up_df19 = df19[col_list].drop(0)\n",
    "up_df20 = df20[col_list].drop(0)\n",
    "up_df21 = df21[col_list].drop(0)\n",
    "up_df22 = df22[col_list].drop(0)"
   ]
  },
  {
   "cell_type": "code",
   "execution_count": 43,
   "metadata": {},
   "outputs": [
    {
     "data": {
      "text/html": [
       "<div>\n",
       "<style scoped>\n",
       "    .dataframe tbody tr th:only-of-type {\n",
       "        vertical-align: middle;\n",
       "    }\n",
       "\n",
       "    .dataframe tbody tr th {\n",
       "        vertical-align: top;\n",
       "    }\n",
       "\n",
       "    .dataframe thead th {\n",
       "        text-align: right;\n",
       "    }\n",
       "</style>\n",
       "<table border=\"1\" class=\"dataframe\">\n",
       "  <thead>\n",
       "    <tr style=\"text-align: right;\">\n",
       "      <th></th>\n",
       "      <th>Perpetrator</th>\n",
       "      <th>Total number of attacks on facilities which reported damage</th>\n",
       "      <th>Total health worker killed</th>\n",
       "      <th>Attack date</th>\n",
       "      <th>Health transportation destroyed</th>\n",
       "      <th>Country</th>\n",
       "      <th>Total health worker arrested</th>\n",
       "      <th>Health transportation damaged</th>\n",
       "      <th>Health transportation stolen/highjacked</th>\n",
       "      <th>Total health worker kidnapped</th>\n",
       "      <th>Total health worker injured</th>\n",
       "      <th>Total number of attacks on facilities which reported destruction</th>\n",
       "    </tr>\n",
       "  </thead>\n",
       "  <tbody>\n",
       "  </tbody>\n",
       "</table>\n",
       "</div>"
      ],
      "text/plain": [
       "Empty DataFrame\n",
       "Columns: [Perpetrator , Total number of attacks on facilities which reported damage, Total health worker killed, Attack date, Health transportation destroyed, Country, Total health worker arrested , Health transportation damaged, Health transportation stolen/highjacked, Total health worker kidnapped, Total health worker injured, Total number of attacks on facilities which reported destruction]\n",
       "Index: []"
      ]
     },
     "execution_count": 43,
     "metadata": {},
     "output_type": "execute_result"
    }
   ],
   "source": [
    "# get the rows where columns in txt_cols are null\n",
    "tot_df = pd.concat([up_df18, up_df19, up_df20, up_df21, up_df22])\n",
    "txt_cols = ['Perpetrator ', 'Attack date', 'Country']\n",
    "tot_df[tot_df[txt_cols].isnull().any(axis=1)]"
   ]
  },
  {
   "cell_type": "code",
   "execution_count": 44,
   "metadata": {},
   "outputs": [],
   "source": [
    "int_cols = tot_df.columns.drop(txt_cols)\n",
    "tot_df.fillna(0, inplace=True)\n",
    "tot_df[int_cols] = tot_df[int_cols].apply(pd.to_numeric, errors='coerce', axis=1)"
   ]
  },
  {
   "cell_type": "code",
   "execution_count": 45,
   "metadata": {},
   "outputs": [
    {
     "data": {
      "text/html": [
       "<div>\n",
       "<style scoped>\n",
       "    .dataframe tbody tr th:only-of-type {\n",
       "        vertical-align: middle;\n",
       "    }\n",
       "\n",
       "    .dataframe tbody tr th {\n",
       "        vertical-align: top;\n",
       "    }\n",
       "\n",
       "    .dataframe thead th {\n",
       "        text-align: right;\n",
       "    }\n",
       "</style>\n",
       "<table border=\"1\" class=\"dataframe\">\n",
       "  <thead>\n",
       "    <tr style=\"text-align: right;\">\n",
       "      <th></th>\n",
       "      <th>Perpetrator</th>\n",
       "      <th>Total number of attacks on facilities which reported damage</th>\n",
       "      <th>Total health worker killed</th>\n",
       "      <th>Attack date</th>\n",
       "      <th>Health transportation destroyed</th>\n",
       "      <th>Country</th>\n",
       "      <th>Total health worker arrested</th>\n",
       "      <th>Health transportation damaged</th>\n",
       "      <th>Health transportation stolen/highjacked</th>\n",
       "      <th>Total health worker kidnapped</th>\n",
       "      <th>Total health worker injured</th>\n",
       "      <th>Total number of attacks on facilities which reported destruction</th>\n",
       "    </tr>\n",
       "  </thead>\n",
       "  <tbody>\n",
       "    <tr>\n",
       "      <th>0</th>\n",
       "      <td>NoInformation</td>\n",
       "      <td>0.0</td>\n",
       "      <td>0.0</td>\n",
       "      <td>2018-01-01 00:00:00</td>\n",
       "      <td>0.0</td>\n",
       "      <td>Afghanistan</td>\n",
       "      <td>0.0</td>\n",
       "      <td>0.0</td>\n",
       "      <td>0.0</td>\n",
       "      <td>0.0</td>\n",
       "      <td>0.0</td>\n",
       "      <td>0.0</td>\n",
       "    </tr>\n",
       "    <tr>\n",
       "      <th>1</th>\n",
       "      <td>NonStateArmedGroups</td>\n",
       "      <td>0.0</td>\n",
       "      <td>0.0</td>\n",
       "      <td>2018-01-02 00:00:00</td>\n",
       "      <td>0.0</td>\n",
       "      <td>Afghanistan</td>\n",
       "      <td>0.0</td>\n",
       "      <td>0.0</td>\n",
       "      <td>0.0</td>\n",
       "      <td>5.0</td>\n",
       "      <td>0.0</td>\n",
       "      <td>0.0</td>\n",
       "    </tr>\n",
       "    <tr>\n",
       "      <th>2</th>\n",
       "      <td>StateActor</td>\n",
       "      <td>0.0</td>\n",
       "      <td>1.0</td>\n",
       "      <td>2018-01-06 00:00:00</td>\n",
       "      <td>0.0</td>\n",
       "      <td>Afghanistan</td>\n",
       "      <td>0.0</td>\n",
       "      <td>0.0</td>\n",
       "      <td>0.0</td>\n",
       "      <td>0.0</td>\n",
       "      <td>0.0</td>\n",
       "      <td>0.0</td>\n",
       "    </tr>\n",
       "    <tr>\n",
       "      <th>3</th>\n",
       "      <td>NoInformation</td>\n",
       "      <td>0.0</td>\n",
       "      <td>0.0</td>\n",
       "      <td>2018-01-06 00:00:00</td>\n",
       "      <td>0.0</td>\n",
       "      <td>Afghanistan</td>\n",
       "      <td>0.0</td>\n",
       "      <td>0.0</td>\n",
       "      <td>0.0</td>\n",
       "      <td>0.0</td>\n",
       "      <td>0.0</td>\n",
       "      <td>0.0</td>\n",
       "    </tr>\n",
       "    <tr>\n",
       "      <th>4</th>\n",
       "      <td>NoInformation</td>\n",
       "      <td>0.0</td>\n",
       "      <td>1.0</td>\n",
       "      <td>2018-01-15 00:00:00</td>\n",
       "      <td>0.0</td>\n",
       "      <td>Afghanistan</td>\n",
       "      <td>0.0</td>\n",
       "      <td>0.0</td>\n",
       "      <td>0.0</td>\n",
       "      <td>0.0</td>\n",
       "      <td>0.0</td>\n",
       "      <td>0.0</td>\n",
       "    </tr>\n",
       "  </tbody>\n",
       "</table>\n",
       "</div>"
      ],
      "text/plain": [
       "          Perpetrator   \\\n",
       "0        NoInformation   \n",
       "1  NonStateArmedGroups   \n",
       "2           StateActor   \n",
       "3        NoInformation   \n",
       "4        NoInformation   \n",
       "\n",
       "   Total number of attacks on facilities which reported damage  \\\n",
       "0                                                0.0             \n",
       "1                                                0.0             \n",
       "2                                                0.0             \n",
       "3                                                0.0             \n",
       "4                                                0.0             \n",
       "\n",
       "   Total health worker killed          Attack date  \\\n",
       "0                         0.0  2018-01-01 00:00:00   \n",
       "1                         0.0  2018-01-02 00:00:00   \n",
       "2                         1.0  2018-01-06 00:00:00   \n",
       "3                         0.0  2018-01-06 00:00:00   \n",
       "4                         1.0  2018-01-15 00:00:00   \n",
       "\n",
       "   Health transportation destroyed      Country  \\\n",
       "0                              0.0  Afghanistan   \n",
       "1                              0.0  Afghanistan   \n",
       "2                              0.0  Afghanistan   \n",
       "3                              0.0  Afghanistan   \n",
       "4                              0.0  Afghanistan   \n",
       "\n",
       "   Total health worker arrested   Health transportation damaged  \\\n",
       "0                            0.0                            0.0   \n",
       "1                            0.0                            0.0   \n",
       "2                            0.0                            0.0   \n",
       "3                            0.0                            0.0   \n",
       "4                            0.0                            0.0   \n",
       "\n",
       "   Health transportation stolen/highjacked  Total health worker kidnapped  \\\n",
       "0                                      0.0                            0.0   \n",
       "1                                      0.0                            5.0   \n",
       "2                                      0.0                            0.0   \n",
       "3                                      0.0                            0.0   \n",
       "4                                      0.0                            0.0   \n",
       "\n",
       "   Total health worker injured  \\\n",
       "0                          0.0   \n",
       "1                          0.0   \n",
       "2                          0.0   \n",
       "3                          0.0   \n",
       "4                          0.0   \n",
       "\n",
       "   Total number of attacks on facilities which reported destruction  \n",
       "0                                                0.0                 \n",
       "1                                                0.0                 \n",
       "2                                                0.0                 \n",
       "3                                                0.0                 \n",
       "4                                                0.0                 "
      ]
     },
     "execution_count": 45,
     "metadata": {},
     "output_type": "execute_result"
    }
   ],
   "source": [
    "tot_df.reset_index(drop=True, inplace=True)\n",
    "tot_df.head()"
   ]
  },
  {
   "cell_type": "code",
   "execution_count": null,
   "metadata": {},
   "outputs": [],
   "source": [
    "tot_df.to_csv('combined_shcc_incidents_data.csv')"
   ]
  }
 ],
 "metadata": {
  "kernelspec": {
   "display_name": "Python 3",
   "language": "python",
   "name": "python3"
  },
  "language_info": {
   "codemirror_mode": {
    "name": "ipython",
    "version": 3
   },
   "file_extension": ".py",
   "mimetype": "text/x-python",
   "name": "python",
   "nbconvert_exporter": "python",
   "pygments_lexer": "ipython3",
   "version": "3.11.3"
  }
 },
 "nbformat": 4,
 "nbformat_minor": 2
}
