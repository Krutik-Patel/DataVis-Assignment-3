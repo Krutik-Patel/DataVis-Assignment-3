{
 "cells": [
  {
   "cell_type": "markdown",
   "metadata": {},
   "source": [
    "## Importing necessary libraries"
   ]
  },
  {
   "cell_type": "code",
   "execution_count": 1,
   "metadata": {},
   "outputs": [],
   "source": [
    "import pandas as pd\n",
    "from sklearn.cluster import KMeans, AffinityPropagation, MeanShift\n",
    "import seaborn as sns\n",
    "import matplotlib.pyplot as plt\n",
    "\n",
    "seed = 17"
   ]
  },
  {
   "cell_type": "markdown",
   "metadata": {},
   "source": [
    "## Loading data"
   ]
  },
  {
   "cell_type": "code",
   "execution_count": 52,
   "metadata": {},
   "outputs": [],
   "source": [
    "shcc = pd.read_csv(\"./DataVis-Assignment-3/combined_shcc_incidents_data.csv\")\n",
    "\n",
    "shcc.replace({'oPt':'OPT'}, inplace=True)\n",
    "shcc.dropna(inplace=True)"
   ]
  },
  {
   "cell_type": "markdown",
   "metadata": {},
   "source": [
    "## Clustering using KMeans clustering with clusters"
   ]
  },
  {
   "cell_type": "code",
   "execution_count": 55,
   "metadata": {},
   "outputs": [
    {
     "name": "stderr",
     "output_type": "stream",
     "text": [
      "/home/saimadhavang/.local/lib/python3.8/site-packages/sklearn/cluster/_kmeans.py:1416: FutureWarning: The default value of `n_init` will change from 10 to 'auto' in 1.4. Set the value of `n_init` explicitly to suppress the warning\n",
      "  super()._check_params_vs_input(X, default_n_init=10)\n"
     ]
    }
   ],
   "source": [
    "kmeans4 = KMeans(n_clusters=4, random_state=seed)\n",
    "\n",
    "X = shcc[['Total number of attacks on facilities which reported damage',\n",
    "       'Total health worker killed', 'Health transportation destroyed', 'Total health worker arrested ', 'Health transportation damaged',\n",
    "       'Health transportation stolen/highjacked',\n",
    "       'Total health worker kidnapped', 'Total health worker injured',\n",
    "       'Total number of attacks on facilities which reported destruction']]\n",
    "\n",
    "\n",
    "kmeans4.fit(X)\n",
    "\n",
    "shcc['cluster'] = kmeans4.labels_"
   ]
  },
  {
   "cell_type": "code",
   "execution_count": 56,
   "metadata": {},
   "outputs": [
    {
     "data": {
      "text/plain": [
       "cluster\n",
       "1    5948\n",
       "0     322\n",
       "2      24\n",
       "3      10\n",
       "Name: count, dtype: int64"
      ]
     },
     "execution_count": 56,
     "metadata": {},
     "output_type": "execute_result"
    }
   ],
   "source": [
    "shcc['cluster'].value_counts()"
   ]
  },
  {
   "cell_type": "markdown",
   "metadata": {},
   "source": [
    "## Checking statistical features of each cluster"
   ]
  },
  {
   "cell_type": "code",
   "execution_count": 57,
   "metadata": {},
   "outputs": [
    {
     "data": {
      "text/html": [
       "<div>\n",
       "<style scoped>\n",
       "    .dataframe tbody tr th:only-of-type {\n",
       "        vertical-align: middle;\n",
       "    }\n",
       "\n",
       "    .dataframe tbody tr th {\n",
       "        vertical-align: top;\n",
       "    }\n",
       "\n",
       "    .dataframe thead th {\n",
       "        text-align: right;\n",
       "    }\n",
       "</style>\n",
       "<table border=\"1\" class=\"dataframe\">\n",
       "  <thead>\n",
       "    <tr style=\"text-align: right;\">\n",
       "      <th></th>\n",
       "      <th>Unnamed: 0</th>\n",
       "      <th>Total number of attacks on facilities which reported damage</th>\n",
       "      <th>Total health worker killed</th>\n",
       "      <th>Health transportation destroyed</th>\n",
       "      <th>Total health worker arrested</th>\n",
       "      <th>Health transportation damaged</th>\n",
       "      <th>Health transportation stolen/highjacked</th>\n",
       "      <th>Total health worker kidnapped</th>\n",
       "      <th>Total health worker injured</th>\n",
       "      <th>Total number of attacks on facilities which reported destruction</th>\n",
       "      <th>cluster</th>\n",
       "    </tr>\n",
       "  </thead>\n",
       "  <tbody>\n",
       "    <tr>\n",
       "      <th>count</th>\n",
       "      <td>322.000000</td>\n",
       "      <td>322.000000</td>\n",
       "      <td>322.000000</td>\n",
       "      <td>322.000000</td>\n",
       "      <td>322.000000</td>\n",
       "      <td>322.000000</td>\n",
       "      <td>322.000000</td>\n",
       "      <td>322.000000</td>\n",
       "      <td>322.000000</td>\n",
       "      <td>322.000000</td>\n",
       "      <td>322.0</td>\n",
       "    </tr>\n",
       "    <tr>\n",
       "      <th>mean</th>\n",
       "      <td>2486.006211</td>\n",
       "      <td>0.093168</td>\n",
       "      <td>0.263975</td>\n",
       "      <td>0.018634</td>\n",
       "      <td>0.062112</td>\n",
       "      <td>0.118012</td>\n",
       "      <td>0.003106</td>\n",
       "      <td>0.015528</td>\n",
       "      <td>3.288820</td>\n",
       "      <td>0.034161</td>\n",
       "      <td>0.0</td>\n",
       "    </tr>\n",
       "    <tr>\n",
       "      <th>std</th>\n",
       "      <td>1739.054239</td>\n",
       "      <td>0.291120</td>\n",
       "      <td>0.737433</td>\n",
       "      <td>0.135437</td>\n",
       "      <td>0.435059</td>\n",
       "      <td>0.384738</td>\n",
       "      <td>0.055728</td>\n",
       "      <td>0.166720</td>\n",
       "      <td>2.000109</td>\n",
       "      <td>0.181927</td>\n",
       "      <td>0.0</td>\n",
       "    </tr>\n",
       "    <tr>\n",
       "      <th>min</th>\n",
       "      <td>33.000000</td>\n",
       "      <td>0.000000</td>\n",
       "      <td>0.000000</td>\n",
       "      <td>0.000000</td>\n",
       "      <td>0.000000</td>\n",
       "      <td>0.000000</td>\n",
       "      <td>0.000000</td>\n",
       "      <td>0.000000</td>\n",
       "      <td>2.000000</td>\n",
       "      <td>0.000000</td>\n",
       "      <td>0.0</td>\n",
       "    </tr>\n",
       "    <tr>\n",
       "      <th>25%</th>\n",
       "      <td>747.250000</td>\n",
       "      <td>0.000000</td>\n",
       "      <td>0.000000</td>\n",
       "      <td>0.000000</td>\n",
       "      <td>0.000000</td>\n",
       "      <td>0.000000</td>\n",
       "      <td>0.000000</td>\n",
       "      <td>0.000000</td>\n",
       "      <td>2.000000</td>\n",
       "      <td>0.000000</td>\n",
       "      <td>0.0</td>\n",
       "    </tr>\n",
       "    <tr>\n",
       "      <th>50%</th>\n",
       "      <td>2101.500000</td>\n",
       "      <td>0.000000</td>\n",
       "      <td>0.000000</td>\n",
       "      <td>0.000000</td>\n",
       "      <td>0.000000</td>\n",
       "      <td>0.000000</td>\n",
       "      <td>0.000000</td>\n",
       "      <td>0.000000</td>\n",
       "      <td>3.000000</td>\n",
       "      <td>0.000000</td>\n",
       "      <td>0.0</td>\n",
       "    </tr>\n",
       "    <tr>\n",
       "      <th>75%</th>\n",
       "      <td>4158.250000</td>\n",
       "      <td>0.000000</td>\n",
       "      <td>0.000000</td>\n",
       "      <td>0.000000</td>\n",
       "      <td>0.000000</td>\n",
       "      <td>0.000000</td>\n",
       "      <td>0.000000</td>\n",
       "      <td>0.000000</td>\n",
       "      <td>4.000000</td>\n",
       "      <td>0.000000</td>\n",
       "      <td>0.0</td>\n",
       "    </tr>\n",
       "    <tr>\n",
       "      <th>max</th>\n",
       "      <td>6246.000000</td>\n",
       "      <td>1.000000</td>\n",
       "      <td>5.000000</td>\n",
       "      <td>1.000000</td>\n",
       "      <td>4.000000</td>\n",
       "      <td>3.000000</td>\n",
       "      <td>1.000000</td>\n",
       "      <td>2.000000</td>\n",
       "      <td>13.000000</td>\n",
       "      <td>1.000000</td>\n",
       "      <td>0.0</td>\n",
       "    </tr>\n",
       "  </tbody>\n",
       "</table>\n",
       "</div>"
      ],
      "text/plain": [
       "        Unnamed: 0  \\\n",
       "count   322.000000   \n",
       "mean   2486.006211   \n",
       "std    1739.054239   \n",
       "min      33.000000   \n",
       "25%     747.250000   \n",
       "50%    2101.500000   \n",
       "75%    4158.250000   \n",
       "max    6246.000000   \n",
       "\n",
       "       Total number of attacks on facilities which reported damage  \\\n",
       "count                                         322.000000             \n",
       "mean                                            0.093168             \n",
       "std                                             0.291120             \n",
       "min                                             0.000000             \n",
       "25%                                             0.000000             \n",
       "50%                                             0.000000             \n",
       "75%                                             0.000000             \n",
       "max                                             1.000000             \n",
       "\n",
       "       Total health worker killed  Health transportation destroyed  \\\n",
       "count                  322.000000                       322.000000   \n",
       "mean                     0.263975                         0.018634   \n",
       "std                      0.737433                         0.135437   \n",
       "min                      0.000000                         0.000000   \n",
       "25%                      0.000000                         0.000000   \n",
       "50%                      0.000000                         0.000000   \n",
       "75%                      0.000000                         0.000000   \n",
       "max                      5.000000                         1.000000   \n",
       "\n",
       "       Total health worker arrested   Health transportation damaged  \\\n",
       "count                     322.000000                     322.000000   \n",
       "mean                        0.062112                       0.118012   \n",
       "std                         0.435059                       0.384738   \n",
       "min                         0.000000                       0.000000   \n",
       "25%                         0.000000                       0.000000   \n",
       "50%                         0.000000                       0.000000   \n",
       "75%                         0.000000                       0.000000   \n",
       "max                         4.000000                       3.000000   \n",
       "\n",
       "       Health transportation stolen/highjacked  Total health worker kidnapped  \\\n",
       "count                               322.000000                     322.000000   \n",
       "mean                                  0.003106                       0.015528   \n",
       "std                                   0.055728                       0.166720   \n",
       "min                                   0.000000                       0.000000   \n",
       "25%                                   0.000000                       0.000000   \n",
       "50%                                   0.000000                       0.000000   \n",
       "75%                                   0.000000                       0.000000   \n",
       "max                                   1.000000                       2.000000   \n",
       "\n",
       "       Total health worker injured  \\\n",
       "count                   322.000000   \n",
       "mean                      3.288820   \n",
       "std                       2.000109   \n",
       "min                       2.000000   \n",
       "25%                       2.000000   \n",
       "50%                       3.000000   \n",
       "75%                       4.000000   \n",
       "max                      13.000000   \n",
       "\n",
       "       Total number of attacks on facilities which reported destruction  \\\n",
       "count                                         322.000000                  \n",
       "mean                                            0.034161                  \n",
       "std                                             0.181927                  \n",
       "min                                             0.000000                  \n",
       "25%                                             0.000000                  \n",
       "50%                                             0.000000                  \n",
       "75%                                             0.000000                  \n",
       "max                                             1.000000                  \n",
       "\n",
       "       cluster  \n",
       "count    322.0  \n",
       "mean       0.0  \n",
       "std        0.0  \n",
       "min        0.0  \n",
       "25%        0.0  \n",
       "50%        0.0  \n",
       "75%        0.0  \n",
       "max        0.0  "
      ]
     },
     "execution_count": 57,
     "metadata": {},
     "output_type": "execute_result"
    }
   ],
   "source": [
    "shcc[shcc['cluster']==0].describe()"
   ]
  },
  {
   "cell_type": "code",
   "execution_count": 58,
   "metadata": {},
   "outputs": [
    {
     "data": {
      "text/html": [
       "<div>\n",
       "<style scoped>\n",
       "    .dataframe tbody tr th:only-of-type {\n",
       "        vertical-align: middle;\n",
       "    }\n",
       "\n",
       "    .dataframe tbody tr th {\n",
       "        vertical-align: top;\n",
       "    }\n",
       "\n",
       "    .dataframe thead th {\n",
       "        text-align: right;\n",
       "    }\n",
       "</style>\n",
       "<table border=\"1\" class=\"dataframe\">\n",
       "  <thead>\n",
       "    <tr style=\"text-align: right;\">\n",
       "      <th></th>\n",
       "      <th>Unnamed: 0</th>\n",
       "      <th>Total number of attacks on facilities which reported damage</th>\n",
       "      <th>Total health worker killed</th>\n",
       "      <th>Health transportation destroyed</th>\n",
       "      <th>Total health worker arrested</th>\n",
       "      <th>Health transportation damaged</th>\n",
       "      <th>Health transportation stolen/highjacked</th>\n",
       "      <th>Total health worker kidnapped</th>\n",
       "      <th>Total health worker injured</th>\n",
       "      <th>Total number of attacks on facilities which reported destruction</th>\n",
       "      <th>cluster</th>\n",
       "    </tr>\n",
       "  </thead>\n",
       "  <tbody>\n",
       "    <tr>\n",
       "      <th>count</th>\n",
       "      <td>5948.000000</td>\n",
       "      <td>5948.000000</td>\n",
       "      <td>5948.000000</td>\n",
       "      <td>5948.000000</td>\n",
       "      <td>5948.000000</td>\n",
       "      <td>5948.000000</td>\n",
       "      <td>5948.000000</td>\n",
       "      <td>5948.000000</td>\n",
       "      <td>5948.000000</td>\n",
       "      <td>5948.000000</td>\n",
       "      <td>5948.0</td>\n",
       "    </tr>\n",
       "    <tr>\n",
       "      <th>mean</th>\n",
       "      <td>3190.275219</td>\n",
       "      <td>0.196537</td>\n",
       "      <td>0.136012</td>\n",
       "      <td>0.012777</td>\n",
       "      <td>0.122562</td>\n",
       "      <td>0.060693</td>\n",
       "      <td>0.047243</td>\n",
       "      <td>0.129119</td>\n",
       "      <td>0.123907</td>\n",
       "      <td>0.047411</td>\n",
       "      <td>1.0</td>\n",
       "    </tr>\n",
       "    <tr>\n",
       "      <th>std</th>\n",
       "      <td>1819.044498</td>\n",
       "      <td>0.468128</td>\n",
       "      <td>0.549388</td>\n",
       "      <td>0.123720</td>\n",
       "      <td>0.576668</td>\n",
       "      <td>0.747069</td>\n",
       "      <td>0.504849</td>\n",
       "      <td>0.846246</td>\n",
       "      <td>0.329503</td>\n",
       "      <td>0.269094</td>\n",
       "      <td>0.0</td>\n",
       "    </tr>\n",
       "    <tr>\n",
       "      <th>min</th>\n",
       "      <td>0.000000</td>\n",
       "      <td>0.000000</td>\n",
       "      <td>0.000000</td>\n",
       "      <td>0.000000</td>\n",
       "      <td>0.000000</td>\n",
       "      <td>0.000000</td>\n",
       "      <td>0.000000</td>\n",
       "      <td>0.000000</td>\n",
       "      <td>0.000000</td>\n",
       "      <td>0.000000</td>\n",
       "      <td>1.0</td>\n",
       "    </tr>\n",
       "    <tr>\n",
       "      <th>25%</th>\n",
       "      <td>1613.250000</td>\n",
       "      <td>0.000000</td>\n",
       "      <td>0.000000</td>\n",
       "      <td>0.000000</td>\n",
       "      <td>0.000000</td>\n",
       "      <td>0.000000</td>\n",
       "      <td>0.000000</td>\n",
       "      <td>0.000000</td>\n",
       "      <td>0.000000</td>\n",
       "      <td>0.000000</td>\n",
       "      <td>1.0</td>\n",
       "    </tr>\n",
       "    <tr>\n",
       "      <th>50%</th>\n",
       "      <td>3195.500000</td>\n",
       "      <td>0.000000</td>\n",
       "      <td>0.000000</td>\n",
       "      <td>0.000000</td>\n",
       "      <td>0.000000</td>\n",
       "      <td>0.000000</td>\n",
       "      <td>0.000000</td>\n",
       "      <td>0.000000</td>\n",
       "      <td>0.000000</td>\n",
       "      <td>0.000000</td>\n",
       "      <td>1.0</td>\n",
       "    </tr>\n",
       "    <tr>\n",
       "      <th>75%</th>\n",
       "      <td>4778.250000</td>\n",
       "      <td>0.000000</td>\n",
       "      <td>0.000000</td>\n",
       "      <td>0.000000</td>\n",
       "      <td>0.000000</td>\n",
       "      <td>0.000000</td>\n",
       "      <td>0.000000</td>\n",
       "      <td>0.000000</td>\n",
       "      <td>0.000000</td>\n",
       "      <td>0.000000</td>\n",
       "      <td>1.0</td>\n",
       "    </tr>\n",
       "    <tr>\n",
       "      <th>max</th>\n",
       "      <td>6305.000000</td>\n",
       "      <td>11.000000</td>\n",
       "      <td>18.000000</td>\n",
       "      <td>2.000000</td>\n",
       "      <td>9.000000</td>\n",
       "      <td>50.000000</td>\n",
       "      <td>21.000000</td>\n",
       "      <td>42.000000</td>\n",
       "      <td>1.000000</td>\n",
       "      <td>10.000000</td>\n",
       "      <td>1.0</td>\n",
       "    </tr>\n",
       "  </tbody>\n",
       "</table>\n",
       "</div>"
      ],
      "text/plain": [
       "        Unnamed: 0  \\\n",
       "count  5948.000000   \n",
       "mean   3190.275219   \n",
       "std    1819.044498   \n",
       "min       0.000000   \n",
       "25%    1613.250000   \n",
       "50%    3195.500000   \n",
       "75%    4778.250000   \n",
       "max    6305.000000   \n",
       "\n",
       "       Total number of attacks on facilities which reported damage  \\\n",
       "count                                        5948.000000             \n",
       "mean                                            0.196537             \n",
       "std                                             0.468128             \n",
       "min                                             0.000000             \n",
       "25%                                             0.000000             \n",
       "50%                                             0.000000             \n",
       "75%                                             0.000000             \n",
       "max                                            11.000000             \n",
       "\n",
       "       Total health worker killed  Health transportation destroyed  \\\n",
       "count                 5948.000000                      5948.000000   \n",
       "mean                     0.136012                         0.012777   \n",
       "std                      0.549388                         0.123720   \n",
       "min                      0.000000                         0.000000   \n",
       "25%                      0.000000                         0.000000   \n",
       "50%                      0.000000                         0.000000   \n",
       "75%                      0.000000                         0.000000   \n",
       "max                     18.000000                         2.000000   \n",
       "\n",
       "       Total health worker arrested   Health transportation damaged  \\\n",
       "count                    5948.000000                    5948.000000   \n",
       "mean                        0.122562                       0.060693   \n",
       "std                         0.576668                       0.747069   \n",
       "min                         0.000000                       0.000000   \n",
       "25%                         0.000000                       0.000000   \n",
       "50%                         0.000000                       0.000000   \n",
       "75%                         0.000000                       0.000000   \n",
       "max                         9.000000                      50.000000   \n",
       "\n",
       "       Health transportation stolen/highjacked  Total health worker kidnapped  \\\n",
       "count                              5948.000000                    5948.000000   \n",
       "mean                                  0.047243                       0.129119   \n",
       "std                                   0.504849                       0.846246   \n",
       "min                                   0.000000                       0.000000   \n",
       "25%                                   0.000000                       0.000000   \n",
       "50%                                   0.000000                       0.000000   \n",
       "75%                                   0.000000                       0.000000   \n",
       "max                                  21.000000                      42.000000   \n",
       "\n",
       "       Total health worker injured  \\\n",
       "count                  5948.000000   \n",
       "mean                      0.123907   \n",
       "std                       0.329503   \n",
       "min                       0.000000   \n",
       "25%                       0.000000   \n",
       "50%                       0.000000   \n",
       "75%                       0.000000   \n",
       "max                       1.000000   \n",
       "\n",
       "       Total number of attacks on facilities which reported destruction  \\\n",
       "count                                        5948.000000                  \n",
       "mean                                            0.047411                  \n",
       "std                                             0.269094                  \n",
       "min                                             0.000000                  \n",
       "25%                                             0.000000                  \n",
       "50%                                             0.000000                  \n",
       "75%                                             0.000000                  \n",
       "max                                            10.000000                  \n",
       "\n",
       "       cluster  \n",
       "count   5948.0  \n",
       "mean       1.0  \n",
       "std        0.0  \n",
       "min        1.0  \n",
       "25%        1.0  \n",
       "50%        1.0  \n",
       "75%        1.0  \n",
       "max        1.0  "
      ]
     },
     "execution_count": 58,
     "metadata": {},
     "output_type": "execute_result"
    }
   ],
   "source": [
    "shcc[shcc['cluster']==1].describe()"
   ]
  },
  {
   "cell_type": "code",
   "execution_count": 59,
   "metadata": {},
   "outputs": [
    {
     "data": {
      "text/html": [
       "<div>\n",
       "<style scoped>\n",
       "    .dataframe tbody tr th:only-of-type {\n",
       "        vertical-align: middle;\n",
       "    }\n",
       "\n",
       "    .dataframe tbody tr th {\n",
       "        vertical-align: top;\n",
       "    }\n",
       "\n",
       "    .dataframe thead th {\n",
       "        text-align: right;\n",
       "    }\n",
       "</style>\n",
       "<table border=\"1\" class=\"dataframe\">\n",
       "  <thead>\n",
       "    <tr style=\"text-align: right;\">\n",
       "      <th></th>\n",
       "      <th>Unnamed: 0</th>\n",
       "      <th>Total number of attacks on facilities which reported damage</th>\n",
       "      <th>Total health worker killed</th>\n",
       "      <th>Health transportation destroyed</th>\n",
       "      <th>Total health worker arrested</th>\n",
       "      <th>Health transportation damaged</th>\n",
       "      <th>Health transportation stolen/highjacked</th>\n",
       "      <th>Total health worker kidnapped</th>\n",
       "      <th>Total health worker injured</th>\n",
       "      <th>Total number of attacks on facilities which reported destruction</th>\n",
       "      <th>cluster</th>\n",
       "    </tr>\n",
       "  </thead>\n",
       "  <tbody>\n",
       "    <tr>\n",
       "      <th>count</th>\n",
       "      <td>24.000000</td>\n",
       "      <td>24.0</td>\n",
       "      <td>24.000000</td>\n",
       "      <td>24.0</td>\n",
       "      <td>24.000000</td>\n",
       "      <td>24.0</td>\n",
       "      <td>24.0</td>\n",
       "      <td>24.0</td>\n",
       "      <td>24.000000</td>\n",
       "      <td>24.0</td>\n",
       "      <td>24.0</td>\n",
       "    </tr>\n",
       "    <tr>\n",
       "      <th>mean</th>\n",
       "      <td>3801.375000</td>\n",
       "      <td>0.0</td>\n",
       "      <td>0.041667</td>\n",
       "      <td>0.0</td>\n",
       "      <td>19.000000</td>\n",
       "      <td>0.0</td>\n",
       "      <td>0.0</td>\n",
       "      <td>0.0</td>\n",
       "      <td>0.291667</td>\n",
       "      <td>0.0</td>\n",
       "      <td>2.0</td>\n",
       "    </tr>\n",
       "    <tr>\n",
       "      <th>std</th>\n",
       "      <td>950.136046</td>\n",
       "      <td>0.0</td>\n",
       "      <td>0.204124</td>\n",
       "      <td>0.0</td>\n",
       "      <td>8.602325</td>\n",
       "      <td>0.0</td>\n",
       "      <td>0.0</td>\n",
       "      <td>0.0</td>\n",
       "      <td>1.232853</td>\n",
       "      <td>0.0</td>\n",
       "      <td>0.0</td>\n",
       "    </tr>\n",
       "    <tr>\n",
       "      <th>min</th>\n",
       "      <td>901.000000</td>\n",
       "      <td>0.0</td>\n",
       "      <td>0.000000</td>\n",
       "      <td>0.0</td>\n",
       "      <td>10.000000</td>\n",
       "      <td>0.0</td>\n",
       "      <td>0.0</td>\n",
       "      <td>0.0</td>\n",
       "      <td>0.000000</td>\n",
       "      <td>0.0</td>\n",
       "      <td>2.0</td>\n",
       "    </tr>\n",
       "    <tr>\n",
       "      <th>25%</th>\n",
       "      <td>3798.500000</td>\n",
       "      <td>0.0</td>\n",
       "      <td>0.000000</td>\n",
       "      <td>0.0</td>\n",
       "      <td>15.000000</td>\n",
       "      <td>0.0</td>\n",
       "      <td>0.0</td>\n",
       "      <td>0.0</td>\n",
       "      <td>0.000000</td>\n",
       "      <td>0.0</td>\n",
       "      <td>2.0</td>\n",
       "    </tr>\n",
       "    <tr>\n",
       "      <th>50%</th>\n",
       "      <td>3932.500000</td>\n",
       "      <td>0.0</td>\n",
       "      <td>0.000000</td>\n",
       "      <td>0.0</td>\n",
       "      <td>20.000000</td>\n",
       "      <td>0.0</td>\n",
       "      <td>0.0</td>\n",
       "      <td>0.0</td>\n",
       "      <td>0.000000</td>\n",
       "      <td>0.0</td>\n",
       "      <td>2.0</td>\n",
       "    </tr>\n",
       "    <tr>\n",
       "      <th>75%</th>\n",
       "      <td>3946.250000</td>\n",
       "      <td>0.0</td>\n",
       "      <td>0.000000</td>\n",
       "      <td>0.0</td>\n",
       "      <td>20.000000</td>\n",
       "      <td>0.0</td>\n",
       "      <td>0.0</td>\n",
       "      <td>0.0</td>\n",
       "      <td>0.000000</td>\n",
       "      <td>0.0</td>\n",
       "      <td>2.0</td>\n",
       "    </tr>\n",
       "    <tr>\n",
       "      <th>max</th>\n",
       "      <td>6270.000000</td>\n",
       "      <td>0.0</td>\n",
       "      <td>1.000000</td>\n",
       "      <td>0.0</td>\n",
       "      <td>56.000000</td>\n",
       "      <td>0.0</td>\n",
       "      <td>0.0</td>\n",
       "      <td>0.0</td>\n",
       "      <td>6.000000</td>\n",
       "      <td>0.0</td>\n",
       "      <td>2.0</td>\n",
       "    </tr>\n",
       "  </tbody>\n",
       "</table>\n",
       "</div>"
      ],
      "text/plain": [
       "        Unnamed: 0  \\\n",
       "count    24.000000   \n",
       "mean   3801.375000   \n",
       "std     950.136046   \n",
       "min     901.000000   \n",
       "25%    3798.500000   \n",
       "50%    3932.500000   \n",
       "75%    3946.250000   \n",
       "max    6270.000000   \n",
       "\n",
       "       Total number of attacks on facilities which reported damage  \\\n",
       "count                                               24.0             \n",
       "mean                                                 0.0             \n",
       "std                                                  0.0             \n",
       "min                                                  0.0             \n",
       "25%                                                  0.0             \n",
       "50%                                                  0.0             \n",
       "75%                                                  0.0             \n",
       "max                                                  0.0             \n",
       "\n",
       "       Total health worker killed  Health transportation destroyed  \\\n",
       "count                   24.000000                             24.0   \n",
       "mean                     0.041667                              0.0   \n",
       "std                      0.204124                              0.0   \n",
       "min                      0.000000                              0.0   \n",
       "25%                      0.000000                              0.0   \n",
       "50%                      0.000000                              0.0   \n",
       "75%                      0.000000                              0.0   \n",
       "max                      1.000000                              0.0   \n",
       "\n",
       "       Total health worker arrested   Health transportation damaged  \\\n",
       "count                      24.000000                           24.0   \n",
       "mean                       19.000000                            0.0   \n",
       "std                         8.602325                            0.0   \n",
       "min                        10.000000                            0.0   \n",
       "25%                        15.000000                            0.0   \n",
       "50%                        20.000000                            0.0   \n",
       "75%                        20.000000                            0.0   \n",
       "max                        56.000000                            0.0   \n",
       "\n",
       "       Health transportation stolen/highjacked  Total health worker kidnapped  \\\n",
       "count                                     24.0                           24.0   \n",
       "mean                                       0.0                            0.0   \n",
       "std                                        0.0                            0.0   \n",
       "min                                        0.0                            0.0   \n",
       "25%                                        0.0                            0.0   \n",
       "50%                                        0.0                            0.0   \n",
       "75%                                        0.0                            0.0   \n",
       "max                                        0.0                            0.0   \n",
       "\n",
       "       Total health worker injured  \\\n",
       "count                    24.000000   \n",
       "mean                      0.291667   \n",
       "std                       1.232853   \n",
       "min                       0.000000   \n",
       "25%                       0.000000   \n",
       "50%                       0.000000   \n",
       "75%                       0.000000   \n",
       "max                       6.000000   \n",
       "\n",
       "       Total number of attacks on facilities which reported destruction  \\\n",
       "count                                               24.0                  \n",
       "mean                                                 0.0                  \n",
       "std                                                  0.0                  \n",
       "min                                                  0.0                  \n",
       "25%                                                  0.0                  \n",
       "50%                                                  0.0                  \n",
       "75%                                                  0.0                  \n",
       "max                                                  0.0                  \n",
       "\n",
       "       cluster  \n",
       "count     24.0  \n",
       "mean       2.0  \n",
       "std        0.0  \n",
       "min        2.0  \n",
       "25%        2.0  \n",
       "50%        2.0  \n",
       "75%        2.0  \n",
       "max        2.0  "
      ]
     },
     "execution_count": 59,
     "metadata": {},
     "output_type": "execute_result"
    }
   ],
   "source": [
    "shcc[shcc['cluster']==2].describe()"
   ]
  },
  {
   "cell_type": "code",
   "execution_count": 60,
   "metadata": {},
   "outputs": [
    {
     "data": {
      "text/html": [
       "<div>\n",
       "<style scoped>\n",
       "    .dataframe tbody tr th:only-of-type {\n",
       "        vertical-align: middle;\n",
       "    }\n",
       "\n",
       "    .dataframe tbody tr th {\n",
       "        vertical-align: top;\n",
       "    }\n",
       "\n",
       "    .dataframe thead th {\n",
       "        text-align: right;\n",
       "    }\n",
       "</style>\n",
       "<table border=\"1\" class=\"dataframe\">\n",
       "  <thead>\n",
       "    <tr style=\"text-align: right;\">\n",
       "      <th></th>\n",
       "      <th>Unnamed: 0</th>\n",
       "      <th>Total number of attacks on facilities which reported damage</th>\n",
       "      <th>Total health worker killed</th>\n",
       "      <th>Health transportation destroyed</th>\n",
       "      <th>Total health worker arrested</th>\n",
       "      <th>Health transportation damaged</th>\n",
       "      <th>Health transportation stolen/highjacked</th>\n",
       "      <th>Total health worker kidnapped</th>\n",
       "      <th>Total health worker injured</th>\n",
       "      <th>Total number of attacks on facilities which reported destruction</th>\n",
       "      <th>cluster</th>\n",
       "    </tr>\n",
       "  </thead>\n",
       "  <tbody>\n",
       "    <tr>\n",
       "      <th>count</th>\n",
       "      <td>10.000000</td>\n",
       "      <td>10.0</td>\n",
       "      <td>10.000000</td>\n",
       "      <td>10.0</td>\n",
       "      <td>10.0</td>\n",
       "      <td>10.000000</td>\n",
       "      <td>10.0</td>\n",
       "      <td>10.0</td>\n",
       "      <td>10.000000</td>\n",
       "      <td>10.0</td>\n",
       "      <td>10.0</td>\n",
       "    </tr>\n",
       "    <tr>\n",
       "      <th>mean</th>\n",
       "      <td>860.100000</td>\n",
       "      <td>0.0</td>\n",
       "      <td>0.100000</td>\n",
       "      <td>0.0</td>\n",
       "      <td>0.0</td>\n",
       "      <td>1.200000</td>\n",
       "      <td>0.0</td>\n",
       "      <td>0.0</td>\n",
       "      <td>27.400000</td>\n",
       "      <td>0.0</td>\n",
       "      <td>3.0</td>\n",
       "    </tr>\n",
       "    <tr>\n",
       "      <th>std</th>\n",
       "      <td>988.566577</td>\n",
       "      <td>0.0</td>\n",
       "      <td>0.316228</td>\n",
       "      <td>0.0</td>\n",
       "      <td>0.0</td>\n",
       "      <td>2.573368</td>\n",
       "      <td>0.0</td>\n",
       "      <td>0.0</td>\n",
       "      <td>9.395034</td>\n",
       "      <td>0.0</td>\n",
       "      <td>0.0</td>\n",
       "    </tr>\n",
       "    <tr>\n",
       "      <th>min</th>\n",
       "      <td>258.000000</td>\n",
       "      <td>0.0</td>\n",
       "      <td>0.000000</td>\n",
       "      <td>0.0</td>\n",
       "      <td>0.0</td>\n",
       "      <td>0.000000</td>\n",
       "      <td>0.0</td>\n",
       "      <td>0.0</td>\n",
       "      <td>16.000000</td>\n",
       "      <td>0.0</td>\n",
       "      <td>3.0</td>\n",
       "    </tr>\n",
       "    <tr>\n",
       "      <th>25%</th>\n",
       "      <td>279.750000</td>\n",
       "      <td>0.0</td>\n",
       "      <td>0.000000</td>\n",
       "      <td>0.0</td>\n",
       "      <td>0.0</td>\n",
       "      <td>0.000000</td>\n",
       "      <td>0.0</td>\n",
       "      <td>0.0</td>\n",
       "      <td>18.500000</td>\n",
       "      <td>0.0</td>\n",
       "      <td>3.0</td>\n",
       "    </tr>\n",
       "    <tr>\n",
       "      <th>50%</th>\n",
       "      <td>306.500000</td>\n",
       "      <td>0.0</td>\n",
       "      <td>0.000000</td>\n",
       "      <td>0.0</td>\n",
       "      <td>0.0</td>\n",
       "      <td>0.000000</td>\n",
       "      <td>0.0</td>\n",
       "      <td>0.0</td>\n",
       "      <td>28.000000</td>\n",
       "      <td>0.0</td>\n",
       "      <td>3.0</td>\n",
       "    </tr>\n",
       "    <tr>\n",
       "      <th>75%</th>\n",
       "      <td>1380.500000</td>\n",
       "      <td>0.0</td>\n",
       "      <td>0.000000</td>\n",
       "      <td>0.0</td>\n",
       "      <td>0.0</td>\n",
       "      <td>0.000000</td>\n",
       "      <td>0.0</td>\n",
       "      <td>0.0</td>\n",
       "      <td>34.500000</td>\n",
       "      <td>0.0</td>\n",
       "      <td>3.0</td>\n",
       "    </tr>\n",
       "    <tr>\n",
       "      <th>max</th>\n",
       "      <td>3063.000000</td>\n",
       "      <td>0.0</td>\n",
       "      <td>1.000000</td>\n",
       "      <td>0.0</td>\n",
       "      <td>0.0</td>\n",
       "      <td>7.000000</td>\n",
       "      <td>0.0</td>\n",
       "      <td>0.0</td>\n",
       "      <td>42.000000</td>\n",
       "      <td>0.0</td>\n",
       "      <td>3.0</td>\n",
       "    </tr>\n",
       "  </tbody>\n",
       "</table>\n",
       "</div>"
      ],
      "text/plain": [
       "        Unnamed: 0  \\\n",
       "count    10.000000   \n",
       "mean    860.100000   \n",
       "std     988.566577   \n",
       "min     258.000000   \n",
       "25%     279.750000   \n",
       "50%     306.500000   \n",
       "75%    1380.500000   \n",
       "max    3063.000000   \n",
       "\n",
       "       Total number of attacks on facilities which reported damage  \\\n",
       "count                                               10.0             \n",
       "mean                                                 0.0             \n",
       "std                                                  0.0             \n",
       "min                                                  0.0             \n",
       "25%                                                  0.0             \n",
       "50%                                                  0.0             \n",
       "75%                                                  0.0             \n",
       "max                                                  0.0             \n",
       "\n",
       "       Total health worker killed  Health transportation destroyed  \\\n",
       "count                   10.000000                             10.0   \n",
       "mean                     0.100000                              0.0   \n",
       "std                      0.316228                              0.0   \n",
       "min                      0.000000                              0.0   \n",
       "25%                      0.000000                              0.0   \n",
       "50%                      0.000000                              0.0   \n",
       "75%                      0.000000                              0.0   \n",
       "max                      1.000000                              0.0   \n",
       "\n",
       "       Total health worker arrested   Health transportation damaged  \\\n",
       "count                           10.0                      10.000000   \n",
       "mean                             0.0                       1.200000   \n",
       "std                              0.0                       2.573368   \n",
       "min                              0.0                       0.000000   \n",
       "25%                              0.0                       0.000000   \n",
       "50%                              0.0                       0.000000   \n",
       "75%                              0.0                       0.000000   \n",
       "max                              0.0                       7.000000   \n",
       "\n",
       "       Health transportation stolen/highjacked  Total health worker kidnapped  \\\n",
       "count                                     10.0                           10.0   \n",
       "mean                                       0.0                            0.0   \n",
       "std                                        0.0                            0.0   \n",
       "min                                        0.0                            0.0   \n",
       "25%                                        0.0                            0.0   \n",
       "50%                                        0.0                            0.0   \n",
       "75%                                        0.0                            0.0   \n",
       "max                                        0.0                            0.0   \n",
       "\n",
       "       Total health worker injured  \\\n",
       "count                    10.000000   \n",
       "mean                     27.400000   \n",
       "std                       9.395034   \n",
       "min                      16.000000   \n",
       "25%                      18.500000   \n",
       "50%                      28.000000   \n",
       "75%                      34.500000   \n",
       "max                      42.000000   \n",
       "\n",
       "       Total number of attacks on facilities which reported destruction  \\\n",
       "count                                               10.0                  \n",
       "mean                                                 0.0                  \n",
       "std                                                  0.0                  \n",
       "min                                                  0.0                  \n",
       "25%                                                  0.0                  \n",
       "50%                                                  0.0                  \n",
       "75%                                                  0.0                  \n",
       "max                                                  0.0                  \n",
       "\n",
       "       cluster  \n",
       "count     10.0  \n",
       "mean       3.0  \n",
       "std        0.0  \n",
       "min        3.0  \n",
       "25%        3.0  \n",
       "50%        3.0  \n",
       "75%        3.0  \n",
       "max        3.0  "
      ]
     },
     "execution_count": 60,
     "metadata": {},
     "output_type": "execute_result"
    }
   ],
   "source": [
    "shcc[shcc['cluster']==3].describe()"
   ]
  },
  {
   "cell_type": "markdown",
   "metadata": {},
   "source": [
    "## Visualizing number of incidents in each cluster"
   ]
  },
  {
   "cell_type": "code",
   "execution_count": 28,
   "metadata": {},
   "outputs": [
    {
     "data": {
      "text/plain": [
       "<seaborn.axisgrid.FacetGrid at 0x7fa7ba823280>"
      ]
     },
     "execution_count": 28,
     "metadata": {},
     "output_type": "execute_result"
    },
    {
     "data": {
      "image/png": "[encoded data removed]",
      "text/plain": [
       "<Figure size 500x500 with 1 Axes>"
      ]
     },
     "metadata": {},
     "output_type": "display_data"
    }
   ],
   "source": [
    "sns.catplot(data=shcc, x='cluster', kind='count')"
   ]
  },
  {
   "cell_type": "markdown",
   "metadata": {},
   "source": [
    "## Drawing inferences from each cluster"
   ]
  },
  {
   "cell_type": "code",
   "execution_count": 29,
   "metadata": {},
   "outputs": [
    {
     "data": {
      "text/plain": [
       "<seaborn.axisgrid.FacetGrid at 0x7fa7b4ab0f10>"
      ]
     },
     "execution_count": 29,
     "metadata": {},
     "output_type": "execute_result"
    },
    {
     "data": {
      "image/png": "[encoded data removed]",
      "text/plain": [
       "<Figure size 500x500 with 1 Axes>"
      ]
     },
     "metadata": {},
     "output_type": "display_data"
    }
   ],
   "source": [
    "sns.catplot(data=shcc, y='Total health worker arrested ', x='cluster', kind='box')"
   ]
  },
  {
   "cell_type": "markdown",
   "metadata": {},
   "source": [
    "Cluster 2 seems to represent incidents where a large number of health workers seem to have been kidnapped"
   ]
  },
  {
   "cell_type": "code",
   "execution_count": 30,
   "metadata": {},
   "outputs": [
    {
     "data": {
      "text/plain": [
       "<seaborn.axisgrid.FacetGrid at 0x7fa7b4e9a4c0>"
      ]
     },
     "execution_count": 30,
     "metadata": {},
     "output_type": "execute_result"
    },
    {
     "data": {
      "image/png": "[encoded data removed]",
      "text/plain": [
       "<Figure size 500x500 with 1 Axes>"
      ]
     },
     "metadata": {},
     "output_type": "display_data"
    }
   ],
   "source": [
    "sns.catplot(data=shcc, y='Total health worker injured', x='cluster', kind='box')"
   ]
  },
  {
   "cell_type": "markdown",
   "metadata": {},
   "source": [
    "Cluster 0 seems to indicate countries with less but non-zero number of health workers injured\n",
    "\n",
    "Cluster 3 seems to indicate countries with more number of health workers injured\n",
    "\n",
    "Cluster 1 seems to be a generic cluster where majority of the incidents lie"
   ]
  },
  {
   "cell_type": "markdown",
   "metadata": {},
   "source": [
    "## Visualizing countries belonging to each cluster"
   ]
  },
  {
   "cell_type": "markdown",
   "metadata": {},
   "source": [
    "### Cluster 0"
   ]
  },
  {
   "cell_type": "code",
   "execution_count": 62,
   "metadata": {},
   "outputs": [],
   "source": [
    "cluster_0 = shcc.loc[shcc['cluster']==0]"
   ]
  },
  {
   "cell_type": "code",
   "execution_count": 63,
   "metadata": {},
   "outputs": [],
   "source": [
    "grouped_cluster_0 = cluster_0.groupby('Country').count().reset_index()\n",
    "grouped_cluster_0 = grouped_cluster_0[['Country', 'Total health worker injured']]\n",
    "grouped_cluster_0.sort_values('Total health worker injured', ascending=False, inplace=True)\n",
    "grouped_cluster_0.reset_index(inplace=True)"
   ]
  },
  {
   "cell_type": "code",
   "execution_count": 64,
   "metadata": {},
   "outputs": [],
   "source": [
    "countries = grouped_cluster_0['Country'][:9]\n",
    "count = grouped_cluster_0['Total health worker injured'][:9]\n",
    "\n",
    "countries[9] = 'Others'\n",
    "count[9] = grouped_cluster_0['Total health worker injured'][9:].sum()"
   ]
  },
  {
   "cell_type": "code",
   "execution_count": 67,
   "metadata": {},
   "outputs": [
    {
     "data": {
      "image/png": "[encoded data removed]",
      "text/plain": [
       "<Figure size 640x480 with 1 Axes>"
      ]
     },
     "metadata": {},
     "output_type": "display_data"
    }
   ],
   "source": [
    "plt.pie(count, labels=countries)\n",
    "\n",
    "plt.show()"
   ]
  },
  {
   "cell_type": "markdown",
   "metadata": {},
   "source": [
    "Incidents from OPT (Other Palestenian Territories), Syria, Libya and DRC (Congo) seem to be predominant in this cluster\n",
    "\n",
    "This means conflicts in these regions are likely to injure health workers in the region"
   ]
  },
  {
   "cell_type": "markdown",
   "metadata": {},
   "source": [
    "### Cluster 1"
   ]
  },
  {
   "cell_type": "code",
   "execution_count": 68,
   "metadata": {},
   "outputs": [],
   "source": [
    "cluster_1 = shcc.loc[shcc['cluster']==1]"
   ]
  },
  {
   "cell_type": "code",
   "execution_count": 69,
   "metadata": {},
   "outputs": [],
   "source": [
    "grouped_cluster_1 = cluster_1.groupby('Country').count().reset_index()\n",
    "grouped_cluster_1 = grouped_cluster_1[['Country', 'Total health worker injured']]\n",
    "grouped_cluster_1.sort_values('Total health worker injured', ascending=False, inplace=True)\n",
    "grouped_cluster_1.reset_index(inplace=True)"
   ]
  },
  {
   "cell_type": "code",
   "execution_count": 73,
   "metadata": {},
   "outputs": [],
   "source": [
    "countries = grouped_cluster_1['Country'][:9]\n",
    "count = grouped_cluster_1['Total health worker injured'][:9]\n",
    "\n",
    "countries[9] = 'Others'\n",
    "count[9] = grouped_cluster_1['Total health worker injured'][9:].sum()"
   ]
  },
  {
   "cell_type": "code",
   "execution_count": 74,
   "metadata": {},
   "outputs": [
    {
     "data": {
      "image/png": "[encoded data removed]",
      "text/plain": [
       "<Figure size 640x480 with 1 Axes>"
      ]
     },
     "metadata": {},
     "output_type": "display_data"
    }
   ],
   "source": [
    "plt.pie(count, labels=countries)\n",
    "\n",
    "plt.show()"
   ]
  },
  {
   "cell_type": "markdown",
   "metadata": {},
   "source": [
    "Since cluster 1 is generic and doesn't have any unique attributes, the number of incidents of countries in this cluster is somewhat representative of their number of incidents in the entire dataset"
   ]
  },
  {
   "cell_type": "markdown",
   "metadata": {},
   "source": [
    "### Cluster 2"
   ]
  },
  {
   "cell_type": "code",
   "execution_count": 81,
   "metadata": {},
   "outputs": [],
   "source": [
    "cluster_2 = shcc.loc[shcc['cluster']==2]"
   ]
  },
  {
   "cell_type": "code",
   "execution_count": 83,
   "metadata": {},
   "outputs": [],
   "source": [
    "grouped_cluster_2 = cluster_2.groupby('Country').count().reset_index()\n",
    "grouped_cluster_2 = grouped_cluster_2[['Country', 'Total health worker arrested ']]\n",
    "grouped_cluster_2.sort_values('Total health worker arrested ', ascending=False, inplace=True)\n",
    "grouped_cluster_2.reset_index(inplace=True)"
   ]
  },
  {
   "cell_type": "code",
   "execution_count": 84,
   "metadata": {},
   "outputs": [
    {
     "data": {
      "text/html": [
       "<div>\n",
       "<style scoped>\n",
       "    .dataframe tbody tr th:only-of-type {\n",
       "        vertical-align: middle;\n",
       "    }\n",
       "\n",
       "    .dataframe tbody tr th {\n",
       "        vertical-align: top;\n",
       "    }\n",
       "\n",
       "    .dataframe thead th {\n",
       "        text-align: right;\n",
       "    }\n",
       "</style>\n",
       "<table border=\"1\" class=\"dataframe\">\n",
       "  <thead>\n",
       "    <tr style=\"text-align: right;\">\n",
       "      <th></th>\n",
       "      <th>index</th>\n",
       "      <th>Country</th>\n",
       "      <th>Total health worker arrested</th>\n",
       "    </tr>\n",
       "  </thead>\n",
       "  <tbody>\n",
       "    <tr>\n",
       "      <th>0</th>\n",
       "      <td>1</td>\n",
       "      <td>Myanmar</td>\n",
       "      <td>18</td>\n",
       "    </tr>\n",
       "    <tr>\n",
       "      <th>1</th>\n",
       "      <td>3</td>\n",
       "      <td>Sudan</td>\n",
       "      <td>2</td>\n",
       "    </tr>\n",
       "    <tr>\n",
       "      <th>2</th>\n",
       "      <td>4</td>\n",
       "      <td>Syria</td>\n",
       "      <td>2</td>\n",
       "    </tr>\n",
       "    <tr>\n",
       "      <th>3</th>\n",
       "      <td>0</td>\n",
       "      <td>Iran</td>\n",
       "      <td>1</td>\n",
       "    </tr>\n",
       "    <tr>\n",
       "      <th>4</th>\n",
       "      <td>2</td>\n",
       "      <td>Pakistan</td>\n",
       "      <td>1</td>\n",
       "    </tr>\n",
       "  </tbody>\n",
       "</table>\n",
       "</div>"
      ],
      "text/plain": [
       "   index   Country  Total health worker arrested \n",
       "0      1   Myanmar                             18\n",
       "1      3     Sudan                              2\n",
       "2      4     Syria                              2\n",
       "3      0      Iran                              1\n",
       "4      2  Pakistan                              1"
      ]
     },
     "execution_count": 84,
     "metadata": {},
     "output_type": "execute_result"
    }
   ],
   "source": [
    "grouped_cluster_2"
   ]
  },
  {
   "cell_type": "code",
   "execution_count": 87,
   "metadata": {},
   "outputs": [],
   "source": [
    "countries = grouped_cluster_2['Country']\n",
    "count = grouped_cluster_2['Total health worker arrested ']"
   ]
  },
  {
   "cell_type": "code",
   "execution_count": 88,
   "metadata": {},
   "outputs": [
    {
     "data": {
      "image/png": "[encoded data removed]",
      "text/plain": [
       "<Figure size 640x480 with 1 Axes>"
      ]
     },
     "metadata": {},
     "output_type": "display_data"
    }
   ],
   "source": [
    "plt.pie(count, labels=countries)\n",
    "\n",
    "plt.show()"
   ]
  },
  {
   "cell_type": "markdown",
   "metadata": {},
   "source": [
    "We observe that incidents from Myanmar, Pakistan, Iran, Syria and Sudan find their place in cluster 2 which is indicative of a large number of health workers arrests.\n",
    "\n",
    "This is indicative of the oppressiveness of regimes in these countries."
   ]
  },
  {
   "cell_type": "markdown",
   "metadata": {},
   "source": [
    "### Cluster 3"
   ]
  },
  {
   "cell_type": "code",
   "execution_count": 89,
   "metadata": {},
   "outputs": [],
   "source": [
    "cluster_3 = shcc.loc[shcc['cluster']==3]"
   ]
  },
  {
   "cell_type": "code",
   "execution_count": 90,
   "metadata": {},
   "outputs": [],
   "source": [
    "grouped_cluster_3 = cluster_3.groupby('Country').count().reset_index()\n",
    "grouped_cluster_3 = grouped_cluster_3[['Country', 'Total health worker injured']]\n",
    "grouped_cluster_3.sort_values('Total health worker injured', ascending=False, inplace=True)\n",
    "grouped_cluster_3.reset_index(inplace=True)"
   ]
  },
  {
   "cell_type": "code",
   "execution_count": 92,
   "metadata": {},
   "outputs": [],
   "source": [
    "countries = grouped_cluster_3['Country']\n",
    "count = grouped_cluster_3['Total health worker injured']"
   ]
  },
  {
   "cell_type": "code",
   "execution_count": 93,
   "metadata": {},
   "outputs": [
    {
     "data": {
      "image/png": "[encoded data removed]",
      "text/plain": [
       "<Figure size 640x480 with 1 Axes>"
      ]
     },
     "metadata": {},
     "output_type": "display_data"
    }
   ],
   "source": [
    "plt.pie(count, labels=countries)\n",
    "\n",
    "plt.show()"
   ]
  },
  {
   "cell_type": "markdown",
   "metadata": {},
   "source": [
    "We observe that 9 out of the 10 incidents in cluster 3 are from Palestine. \n",
    "\n",
    "The large number of health care workers injures might indicate widespread attacks on civilians or attacking health infrastructure as a strategic objective. (Both of which are against the Geneva Convention rules.)"
   ]
  },
  {
   "cell_type": "code",
   "execution_count": null,
   "metadata": {},
   "outputs": [],
   "source": []
  }
 ],
 "metadata": {
  "kernelspec": {
   "display_name": "base",
   "language": "python",
   "name": "python3"
  },
  "language_info": {
   "codemirror_mode": {
    "name": "ipython",
    "version": 3
   },
   "file_extension": ".py",
   "mimetype": "text/x-python",
   "name": "python",
   "nbconvert_exporter": "python",
   "pygments_lexer": "ipython3",
   "version": "3.8.10"
  }
 },
 "nbformat": 4,
 "nbformat_minor": 2
}
